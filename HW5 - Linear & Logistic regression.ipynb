{
 "cells": [
  {
   "cell_type": "markdown",
   "metadata": {},
   "source": [
    "# Data-X Spring 2019: Homework 05\n",
    "\n",
    "### Linear regression & Logistic regression\n",
    "\n",
    "\n",
    "\n",
    "## Name: Ran Meng\n",
    "\n",
    "## SID:  3034368718\n",
    "\n",
    "\n",
    "\n",
    "\n",
    "In this homework, you will do some exercises on prediction using sklearn. \n",
    "\n",
    "REMEMBER TO DISPLAY ALL OUTPUTS. If the question asks you to do something, make sure to print your results.\n"
   ]
  },
  {
   "cell_type": "markdown",
   "metadata": {},
   "source": [
    "## Part 1 - Regression"
   ]
  },
  {
   "cell_type": "markdown",
   "metadata": {},
   "source": [
    "\n",
    "### Data:\n",
    "__Data Source__:\n",
    "Data file is uploaded to bCourses and is named: __Energy.csv__ \n",
    "(Link in the Assignment details page on Bcourses) \n",
    "\n",
    "The dataset was created by Angeliki Xifara ( Civil/Structural Engineer) and was processed by Athanasios Tsanas, Oxford Centre for Industrial and Applied Mathematics, University of Oxford, UK).\n",
    "\n",
    "__Data Description__:\n",
    "\n",
    "The dataset contains eight attributes of a building (or features, denoted by X1...X8) and response being the heating load on the building, y1. \n",
    "\n",
    "* X1\tRelative Compactness \n",
    "* X2\tSurface Area \n",
    "* X3\tWall Area \n",
    "*  X4\tRoof Area \n",
    "*  X5\tOverall Height \n",
    "* X6\tOrientation \n",
    "*  X7\tGlazing Area \n",
    "*  X8\tGlazing Area Distribution \n",
    "*  y1\tHeating Load \n"
   ]
  },
  {
   "cell_type": "markdown",
   "metadata": {},
   "source": [
    "#### Q1.1\n",
    "Read the data file from the csv.\n",
    "\n",
    "Print the count of NaN values for each attribute in the dataset.\n",
    "\n",
    "Print the Range (min, max) and percentiles (25th, 50th, and 75th) of each attribute in the dataset"
   ]
  },
  {
   "cell_type": "code",
   "execution_count": 1,
   "metadata": {},
   "outputs": [],
   "source": [
    "import numpy as np\n",
    "import pandas as pd\n",
    "import matplotlib.pyplot as plt\n",
    "import warnings\n",
    "warnings.filterwarnings('ignore')\n",
    "%matplotlib inline"
   ]
  },
  {
   "cell_type": "code",
   "execution_count": 2,
   "metadata": {},
   "outputs": [
    {
     "name": "stdout",
     "output_type": "stream",
     "text": [
      "Count of NaN values for each attribute: \n",
      " X1    0\n",
      "X2    0\n",
      "X3    0\n",
      "X4    0\n",
      "X5    0\n",
      "X6    0\n",
      "X7    0\n",
      "X8    0\n",
      "Y1    0\n",
      "dtype: int64\n"
     ]
    },
    {
     "data": {
      "text/html": [
       "<div>\n",
       "<style scoped>\n",
       "    .dataframe tbody tr th:only-of-type {\n",
       "        vertical-align: middle;\n",
       "    }\n",
       "\n",
       "    .dataframe tbody tr th {\n",
       "        vertical-align: top;\n",
       "    }\n",
       "\n",
       "    .dataframe thead th {\n",
       "        text-align: right;\n",
       "    }\n",
       "</style>\n",
       "<table border=\"1\" class=\"dataframe\">\n",
       "  <thead>\n",
       "    <tr style=\"text-align: right;\">\n",
       "      <th></th>\n",
       "      <th>X1</th>\n",
       "      <th>X2</th>\n",
       "      <th>X3</th>\n",
       "      <th>X4</th>\n",
       "      <th>X5</th>\n",
       "      <th>X6</th>\n",
       "      <th>X7</th>\n",
       "      <th>X8</th>\n",
       "      <th>Y1</th>\n",
       "    </tr>\n",
       "  </thead>\n",
       "  <tbody>\n",
       "    <tr>\n",
       "      <th>min</th>\n",
       "      <td>0.6200</td>\n",
       "      <td>514.500</td>\n",
       "      <td>245.0</td>\n",
       "      <td>110.250</td>\n",
       "      <td>3.50</td>\n",
       "      <td>2.00</td>\n",
       "      <td>0.00</td>\n",
       "      <td>0.00</td>\n",
       "      <td>6.0100</td>\n",
       "    </tr>\n",
       "    <tr>\n",
       "      <th>max</th>\n",
       "      <td>0.9800</td>\n",
       "      <td>808.500</td>\n",
       "      <td>416.5</td>\n",
       "      <td>220.500</td>\n",
       "      <td>7.00</td>\n",
       "      <td>5.00</td>\n",
       "      <td>0.40</td>\n",
       "      <td>5.00</td>\n",
       "      <td>43.1000</td>\n",
       "    </tr>\n",
       "    <tr>\n",
       "      <th>25%</th>\n",
       "      <td>0.6825</td>\n",
       "      <td>606.375</td>\n",
       "      <td>294.0</td>\n",
       "      <td>140.875</td>\n",
       "      <td>3.50</td>\n",
       "      <td>2.75</td>\n",
       "      <td>0.10</td>\n",
       "      <td>1.75</td>\n",
       "      <td>12.9925</td>\n",
       "    </tr>\n",
       "    <tr>\n",
       "      <th>50%</th>\n",
       "      <td>0.7500</td>\n",
       "      <td>673.750</td>\n",
       "      <td>318.5</td>\n",
       "      <td>183.750</td>\n",
       "      <td>5.25</td>\n",
       "      <td>3.50</td>\n",
       "      <td>0.25</td>\n",
       "      <td>3.00</td>\n",
       "      <td>18.9500</td>\n",
       "    </tr>\n",
       "    <tr>\n",
       "      <th>75%</th>\n",
       "      <td>0.8300</td>\n",
       "      <td>741.125</td>\n",
       "      <td>343.0</td>\n",
       "      <td>220.500</td>\n",
       "      <td>7.00</td>\n",
       "      <td>4.25</td>\n",
       "      <td>0.40</td>\n",
       "      <td>4.00</td>\n",
       "      <td>31.6675</td>\n",
       "    </tr>\n",
       "  </tbody>\n",
       "</table>\n",
       "</div>"
      ],
      "text/plain": [
       "         X1       X2     X3       X4    X5    X6    X7    X8       Y1\n",
       "min  0.6200  514.500  245.0  110.250  3.50  2.00  0.00  0.00   6.0100\n",
       "max  0.9800  808.500  416.5  220.500  7.00  5.00  0.40  5.00  43.1000\n",
       "25%  0.6825  606.375  294.0  140.875  3.50  2.75  0.10  1.75  12.9925\n",
       "50%  0.7500  673.750  318.5  183.750  5.25  3.50  0.25  3.00  18.9500\n",
       "75%  0.8300  741.125  343.0  220.500  7.00  4.25  0.40  4.00  31.6675"
      ]
     },
     "execution_count": 2,
     "metadata": {},
     "output_type": "execute_result"
    }
   ],
   "source": [
    "# your code\n",
    "df = pd.read_csv('energy.csv')\n",
    "print(\"Count of NaN values for each attribute: \\n\", df.isnull().sum())\n",
    "df.describe().loc[['min','max','25%', '50%', '75%']]"
   ]
  },
  {
   "cell_type": "markdown",
   "metadata": {},
   "source": [
    " __REGRESSION__:\n",
    "\n",
    "Using the data, we want to predict \"Heating load\". The output variable is continuous. Hence, we need to use a regression algorithm.  \n",
    "\n",
    "__Q 1.2:__ \n",
    "\n",
    "Split the dataset randomly into train and test. Train a **Linear Regression** model on 80% of the data (80-20 split).\n",
    "What is the intercept and coefficient values?\n",
    "\n"
   ]
  },
  {
   "cell_type": "code",
   "execution_count": 3,
   "metadata": {},
   "outputs": [
    {
     "name": "stdout",
     "output_type": "stream",
     "text": [
      "Number of training samples:  614\n",
      "Number of testing samples:  154\n",
      "\n",
      "Intercept Value:  79.13116174147392\n",
      "Coefficient Values:  [-6.33926290e+01 -5.86380428e-02  3.46024305e-02 -4.66202367e-02\n",
      "  4.36194652e+00  1.81224259e-02  1.98760201e+01  2.19167208e-01]\n"
     ]
    }
   ],
   "source": [
    "# your code\n",
    "from sklearn.model_selection import train_test_split\n",
    "X = df.loc[:, 'X1':'X8']\n",
    "Y = df[\"Y1\"]\n",
    "X_train, X_test, Y_train, Y_test = train_test_split(X, Y, test_size = 0.2, random_state = 100)\n",
    "print('Number of training samples: ', len(X_train))\n",
    "print('Number of testing samples: ', len(X_test))\n",
    "\n",
    "from sklearn.linear_model import LinearRegression\n",
    "model = LinearRegression()\n",
    "model.fit(X_train, Y_train)\n",
    "print('\\nIntercept Value: ', model.intercept_)\n",
    "print('Coefficient Values: ', model.coef_)"
   ]
  },
  {
   "cell_type": "markdown",
   "metadata": {
    "collapsed": true
   },
   "source": [
    "\n",
    "#### Q.1.3: \n",
    "\n",
    "Create a function which takes arrays of prediction and actual values of the output as parameters to calculate **'Root Mean Square error'** (RMSE) metric:  \n",
    "\n",
    "1. Use the function to calculate the training RMSE  \n",
    "2. Use the function to calculate the test RMSE\n",
    "\n"
   ]
  },
  {
   "cell_type": "code",
   "execution_count": 4,
   "metadata": {},
   "outputs": [
    {
     "name": "stdout",
     "output_type": "stream",
     "text": [
      "Training RMSE:  2.9242420751260125\n",
      "Testing RMSE:  2.905413624299769\n"
     ]
    }
   ],
   "source": [
    "# your code\n",
    "def RMSE(prediction, actual):\n",
    "    return np.sqrt(np.mean(np.square(prediction - actual)))\n",
    "\n",
    "# Calculate RMSE for training data:\n",
    "Y_pred_train = model.predict(X_train)\n",
    "print ('Training RMSE: ', RMSE(Y_pred_train, Y_train))\n",
    "\n",
    "# Calculate RMSE for testing data:\n",
    "Y_pred_test = model.predict(X_test)\n",
    "print ('Testing RMSE: ', RMSE(Y_pred_test, Y_test))"
   ]
  },
  {
   "cell_type": "markdown",
   "metadata": {},
   "source": [
    "\n",
    "#### Q1.4: \n",
    "\n",
    "Let's see the effect of amount of data on the performance of prediction model. Use varying amounts of data (100,200,300,400,500,all) from the training data you used previously to train different regression models. Report  training error and test error in each case. Test data  is the same as above for  all  these cases.\n",
    "\n",
    "**Plot error rates vs number of training examples.** Both the training error and the test error should be plotted. Comment on the relationship you observe between the amount of data used to train the model and the test accuracy of the model.\n",
    "\n",
    "__Hint:__ Use array indexing to choose varying data amounts"
   ]
  },
  {
   "cell_type": "code",
   "execution_count": 5,
   "metadata": {},
   "outputs": [
    {
     "name": "stdout",
     "output_type": "stream",
     "text": [
      "\n",
      "Training Accuracy for 100 training samples: 0.9331810075948953\n",
      "\n",
      "Testing Accuracy for 100 training samples: 0.9043716390104454\n",
      "\n",
      "Training Accuracy for 200 training samples: 0.9235558691685484\n",
      "\n",
      "Testing Accuracy for 200 training samples: 0.9026649121371368\n",
      "\n",
      "Training Accuracy for 300 training samples: 0.9210616105122591\n",
      "\n",
      "Testing Accuracy for 300 training samples: 0.9084474728838293\n",
      "\n",
      "Training Accuracy for 400 training samples: 0.9179117938919141\n",
      "\n",
      "Testing Accuracy for 400 training samples: 0.9094167596539908\n",
      "\n",
      "Training Accuracy for 500 training samples: 0.9155288000484815\n",
      "\n",
      "Testing Accuracy for 500 training samples: 0.9080690273465932\n",
      "\n",
      "Training Accuracy for 768 training samples: 0.916183057742754\n",
      "\n",
      "Testing Accuracy for 768 training samples: 0.9103070158682715\n"
     ]
    }
   ],
   "source": [
    "training_size = np.array([100, 200, 300, 400, 500, len(df)])\n",
    "r = training_size/len(df) # training data ratio\n",
    "training_errors = []\n",
    "testing_errors = []\n",
    "\n",
    "for i in range(len(training_size)):\n",
    "    X_train_loop, X_test_loop, Y_train_loop, Y_test_loop = train_test_split(X, Y, test_size = 1- r[i], random_state = 100) \n",
    "    model= LinearRegression()\n",
    "    model.fit(X_train_loop, Y_train_loop)\n",
    "\n",
    "    training_accuracy = model.score(X_train_loop,Y_train_loop)\n",
    "    print ('\\nTraining Accuracy for', training_size[i],  'training samples:', training_accuracy)\n",
    "    testing_accuracy = model.score(X_test,Y_test)\n",
    "    print('\\nTesting Accuracy for',  training_size[i],  'training samples:', testing_accuracy)\n",
    "    \n",
    "    training_errors.append(1- training_accuracy)\n",
    "    testing_errors.append(1- testing_accuracy)\n"
   ]
  },
  {
   "cell_type": "code",
   "execution_count": 6,
   "metadata": {},
   "outputs": [
    {
     "data": {
      "image/png": "[encoded data removed]",
      "text/plain": [
       "<Figure size 432x288 with 1 Axes>"
      ]
     },
     "metadata": {
      "needs_background": "light"
     },
     "output_type": "display_data"
    }
   ],
   "source": [
    "#training_accuracies = np.array([training_accuracy_100, training_accuracy_200,training_accuracy_300,\\\n",
    "#                              training_accuracy_400, training_accuracy_500, training_accuracy_all])\n",
    "#training_error_rates = 1 - training_accuracies\n",
    "\n",
    "#testing_accuracies = np.array([testing_accuracy_100, testing_accuracy_200,testing_accuracy_300,\\\n",
    " #                              testing_accuracy_400, testing_accuracy_500, testing_accuracy_all])\n",
    "#testing_error_rates = 1 - testing_accuracies\n",
    "\n",
    "fig, ax = plt.subplots()\n",
    "\n",
    "l1, = ax.plot(training_size, training_errors, color='green', linestyle=':')\n",
    "l2, = ax.plot(training_size, testing_errors, color='orange', linestyle='--')\n",
    "ax.legend(handles=[l1, l2], labels=['Training Error Rates', 'Testing Error Rates'],\n",
    "              loc=[0.55, 0.2],frameon = True,numpoints = 3);"
   ]
  },
  {
   "cell_type": "markdown",
   "metadata": {},
   "source": [
    "**Ans:**\n",
    "\n",
    "**Q1.4 :**\n",
    "I got the definition of the \"error rate\" as \"1- accuracy\" from 4c sklearn-classification-regression-bkhw-Spring 2019-.pdf on Data X Github. It is worth noting that the error rate may also refer to RMSE. \n",
    "\n",
    "To interpret the graph: As we increase the number of training data, we observe a decreasing error rate for test data. This indicates that the linear model is learning the data better with increased amount of training data and no overfitting has occurred. \n",
    "\n",
    "However, the error rate for training data is not monotonic. When the training size is small, there is less data to fit which could result in lower error rate. As the training size gets somewhat large, there is more data to fit and the training error rate could increase. \n",
    "\n",
    "A desired model should have the same error rate for training samples and testing samples, and the smaller the error rate the better. "
   ]
  },
  {
   "cell_type": "markdown",
   "metadata": {},
   "source": [
    "## Part 2 - Classification"
   ]
  },
  {
   "cell_type": "markdown",
   "metadata": {},
   "source": [
    "\n",
    "__CLASSIFICATION__:\n",
    "LABELS ARE DISCRETE VALUES.\n",
    "\n",
    "Here the model is trained to classify each instance into a set of predefined discrete classes. On inputting a feature vector into the model, the trained model is able to predict a class of that instance.\n",
    "\n",
    "\n",
    "#### Q2.1\n",
    "Bucket the values of 'y1' i.e 'Heating Load'  from the original dataset into 3 classes:\n",
    "\n",
    "0: 'Low' ( < 14),   \n",
    "1: 'Medium'  (14-28),   \n",
    "2: 'High'  (>28)\n",
    "\n",
    "**HINT:** Use pandas.cut\n",
    "\n",
    "This converts the given dataset  into a classification problem. Use this dataset with transformed 'heating load' to create a **logistic regression** classifiction model that predicts heating load type of a building. Split the data randomly into training and test set. Train the model on 80% of the data (80-20 split).\n"
   ]
  },
  {
   "cell_type": "code",
   "execution_count": 7,
   "metadata": {},
   "outputs": [
    {
     "name": "stdout",
     "output_type": "stream",
     "text": [
      "     X1     X2     X3      X4   X5  X6   X7  X8      Y1\n",
      "0  0.98  514.5  294.0  110.25  7.0   2  0.0   0  Medium\n",
      "1  0.98  514.5  294.0  110.25  7.0   3  0.0   0  Medium\n",
      "2  0.98  514.5  294.0  110.25  7.0   4  0.0   0  Medium\n",
      "3  0.98  514.5  294.0  110.25  7.0   5  0.0   0  Medium\n",
      "4  0.90  563.5  318.5  122.50  7.0   2  0.0   0  Medium\n",
      "\n",
      "Number of training samples:  614\n",
      "Number of test samples:  154\n"
     ]
    }
   ],
   "source": [
    "# your code\n",
    "df2 = df.copy()\n",
    "df2['Y1'] = pd.cut(df2['Y1'], [-np.inf,14,28,np.inf], labels = ['Low', 'Medium', 'High'])\n",
    "print(df2.head())\n",
    "\n",
    "# For the purpose of generating the confusion matrix later, I define label 'Low' with 0, 'Medium' with 1, 'High' with 2\n",
    "X2 = df2.loc[:, 'X1':'X8']\n",
    "Y2 = df2[\"Y1\"]\n",
    "Y2 = Y2.map({'Low': 0, 'Medium': 1,'High' :2})\n",
    "x_train, x_test, y_train, y_test = train_test_split(X2, Y2, test_size = 0.2, random_state = 100)\n",
    "print('\\nNumber of training samples: ', len(x_train))\n",
    "print('Number of test samples: ', len(x_test))"
   ]
  },
  {
   "cell_type": "markdown",
   "metadata": {},
   "source": [
    "#### Q2.2 \n",
    "- Print the training and test accuracies\n",
    "- Print the confusion matrix\n",
    "- Print the precision and recall numbers for all the classes\n"
   ]
  },
  {
   "cell_type": "code",
   "execution_count": 8,
   "metadata": {},
   "outputs": [
    {
     "name": "stdout",
     "output_type": "stream",
     "text": [
      "Training Accuracy: 0.8078175895765473\n",
      "Testing Accuracy:  0.7727272727272727\n"
     ]
    }
   ],
   "source": [
    "from sklearn.linear_model import LogisticRegression\n",
    "Logistic_Model = LogisticRegression()\n",
    "\n",
    "#Training the model and calculating accuracies\n",
    "Logistic_Model.fit(x_train, y_train);\n",
    "\n",
    "training_accuracy = Logistic_Model.score(x_train, y_train)\n",
    "print ('Training Accuracy:', training_accuracy)\n",
    "\n",
    "test_accuracy = Logistic_Model.score(x_test, y_test)\n",
    "print('Testing Accuracy: ', test_accuracy)"
   ]
  },
  {
   "cell_type": "code",
   "execution_count": 9,
   "metadata": {},
   "outputs": [
    {
     "name": "stdout",
     "output_type": "stream",
     "text": [
      "Confusion matrix of test data is: \n",
      "                Predicted Low  Predicted Medium  Predicted High\n",
      "Actual Low                42                 1               0\n",
      "Actual Medium              9                22              25\n",
      "Actual High                0                 0              55\n"
     ]
    }
   ],
   "source": [
    "#Generating the confusion Matrix\n",
    "from sklearn.metrics import confusion_matrix\n",
    "y_true = y_test\n",
    "y_pred = Logistic_Model.predict(x_test)\n",
    "CM = pd.DataFrame(confusion_matrix(y_true, y_pred),columns = ['Predicted Low','Predicted Medium','Predicted High'],\\\n",
    "                  index = ['Actual Low','Actual Medium','Actual High']\n",
    "                 )\n",
    "print ('Confusion matrix of test data is: \\n', CM)"
   ]
  },
  {
   "cell_type": "code",
   "execution_count": 10,
   "metadata": {},
   "outputs": [
    {
     "name": "stdout",
     "output_type": "stream",
     "text": [
      "Average precision for the 3 classes is:  [0.82352941 0.95652174 0.6875    ]\n",
      "Average recall for the 3 classes is:  [0.97674419 0.39285714 1.        ]\n"
     ]
    }
   ],
   "source": [
    "from sklearn.metrics import precision_score\n",
    "print(\"Average precision for the 3 classes is: \", precision_score(y_true, y_pred, average = None) )\n",
    "\n",
    "from sklearn.metrics import recall_score\n",
    "print(\"Average recall for the 3 classes is: \", recall_score(y_true, y_pred, average = None) )"
   ]
  },
  {
   "cell_type": "markdown",
   "metadata": {},
   "source": [
    "#### Q2.3\n",
    "##### K Fold Cross Validation\n",
    "\n",
    " In k-fold cross-validation, the shuffled training data is partitioned into k disjoint sets and the model is trained on k −1 sets and validated on the kth set. This process is repeated k times with each set chosen as the validation set once. The cross-validation accuracy is reported as the average accuracy of the k iterations\n",
    " \n",
    "__Use 7-fold cross validation on the training data. Print the average accuracy__"
   ]
  },
  {
   "cell_type": "code",
   "execution_count": 11,
   "metadata": {},
   "outputs": [
    {
     "name": "stdout",
     "output_type": "stream",
     "text": [
      "KFold(n_splits=7, random_state=None, shuffle=False)\n",
      "\n",
      "Averaged cross validation accuracy:  0.780116435288849\n"
     ]
    }
   ],
   "source": [
    "# your code\n",
    "from sklearn.model_selection import KFold\n",
    "from sklearn.model_selection import cross_val_score\n",
    "\n",
    "kf = KFold(n_splits = 7)\n",
    "print(kf)\n",
    "\n",
    "acc = cross_val_score(Logistic_Model, x_train, y_train, cv = kf)\n",
    "\n",
    "avg_acc = np.mean(acc)\n",
    "print(\"\\nAveraged cross validation accuracy: \", avg_acc)"
   ]
  },
  {
   "cell_type": "markdown",
   "metadata": {},
   "source": [
    "__Q2.4__\n",
    "\n",
    "One of the preprocessing steps in Data science is Feature Scaling i.e getting all our data on the same scale by setting same  Min-Max of feature values. \n",
    "This makes training less sensitive to the scale of features . \n",
    "Scaling is important in algorithms that use distance functions as a part of classification. If we Scale features in the range [0,1] it is called unity based normalization.\n",
    "\n",
    "__Perform unity based normalization on the above dataset and train the model again, compare model performance in training and validation with your previous model.__  \n",
    "\n",
    "refer:http://scikit-learn.org/stable/modules/preprocessing.html#preprocessing-scaler  \n",
    "more at: https://en.wikipedia.org/wiki/Feature_scaling"
   ]
  },
  {
   "cell_type": "code",
   "execution_count": 12,
   "metadata": {},
   "outputs": [
    {
     "name": "stdout",
     "output_type": "stream",
     "text": [
      "Training Accuracy before normalization:  0.8078175895765473\n",
      "Training Accuracy after normalization:  0.8224755700325733\n",
      "\n",
      "Testing Accuracy before normalization :  0.7727272727272727\n",
      "Testing Accuracy after normalization :  0.8116883116883117\n"
     ]
    }
   ],
   "source": [
    "X_Norm = (X2-X2.min())/(X2.max()-X2.min())\n",
    "x_train_norm, x_test_norm, y_train, y_test = train_test_split(X_Norm, Y2, test_size = 0.2, random_state = 100)\n",
    "\n",
    "\n",
    "#Training the model and calculating accuracies\n",
    "logistic_model_norm = LogisticRegression()\n",
    "logistic_model_norm.fit(x_train_norm, y_train);\n",
    "\n",
    "training_accuracy_norm = logistic_model_norm.score(x_train_norm, y_train)\n",
    "print ('Training Accuracy before normalization: ', training_accuracy)\n",
    "print ('Training Accuracy after normalization: ', training_accuracy_norm)\n",
    "\n",
    "\n",
    "test_accuracy_norm = logistic_model_norm.score(x_test_norm, y_test)\n",
    "print('\\nTesting Accuracy before normalization : ', test_accuracy)\n",
    "print('Testing Accuracy after normalization : ', test_accuracy_norm)"
   ]
  },
  {
   "cell_type": "markdown",
   "metadata": {},
   "source": [
    "**Ans:**\n",
    "**Q2.4 :**\n",
    "By utilizing unity based normalization, both the training accuracy (0.822 > 0.808) and testing accuracy (0.812 > 0.773) have improved compared to using the original dataset. This indicates that the training has become less sensitivity to the scale of features."
   ]
  },
  {
   "cell_type": "code",
   "execution_count": null,
   "metadata": {},
   "outputs": [],
   "source": []
  }
 ],
 "metadata": {
  "kernel_info": {
   "name": "data-x"
  },
  "kernelspec": {
   "display_name": "Python 3",
   "language": "python",
   "name": "python3"
  },
  "language_info": {
   "codemirror_mode": {
    "name": "ipython",
    "version": 3
   },
   "file_extension": ".py",
   "mimetype": "text/x-python",
   "name": "python",
   "nbconvert_exporter": "python",
   "pygments_lexer": "ipython3",
   "version": "3.6.8"
  },
  "nteract": {
   "version": "0.7.1"
  }
 },
 "nbformat": 4,
 "nbformat_minor": 2
}
