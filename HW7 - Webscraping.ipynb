{
 "cells": [
  {
   "cell_type": "markdown",
   "metadata": {},
   "source": [
    "# Data-X Spring 2019: Homework 7\n",
    "\n",
    "### Webscraping\n",
    "\n",
    "\n",
    "\n",
    "In this homework, you will do some exercises with web-scraping."
   ]
  },
  {
   "cell_type": "markdown",
   "metadata": {},
   "source": [
    "## Name: Ran Meng\n",
    "\n",
    "## SID: 3034368718\n",
    "\n"
   ]
  },
  {
   "cell_type": "markdown",
   "metadata": {},
   "source": [
    "### Fun with Webscraping & Text manipulation\n"
   ]
  },
  {
   "cell_type": "markdown",
   "metadata": {
    "collapsed": true
   },
   "source": [
    "## 1. Statistics in Presidential Debates\n",
    "\n",
    "Your first task is to scrape Presidential Debates from the Commission of Presidential Debates website: https://www.debates.org/voter-education/debate-transcripts/\n",
    "\n",
    "To do this, you are not allowed to manually look up the URLs that you need, instead you have to scrape them. The root url to be scraped is the one listed above, namely: https://www.debates.org/voter-education/debate-transcripts/\n",
    "\n",
    "\n",
    "1. By using `requests` and `BeautifulSoup` find all the links / URLs on the website that links to transcriptions of **First Presidential Debates** from the years [1988, 1984, 1976, 1960]. In total you should find 4 links / URLs that fulfill this criteria. **Print the urls.**\n",
    "\n",
    "2. When you have a list of the URLs your task is to create a Data Frame with some statistics (see example of output below):\n",
    "    1. Scrape the title of each link and use that as the column name in your Data Frame. \n",
    "    2. Count how long the transcript of the debate is (as in the number of characters in transcription string). Feel free to include `\\` characters in your count, but remove any breakline characters, i.e. `\\n`. You will get credit if your count is +/- 10% from our result.\n",
    "    3. Count how many times the word **war** was used in the different debates. Note that you have to convert the text in a smart way (to not count the word **warranty** for example, but counting **war.**, **war!**, **war,** or **War** etc.\n",
    "    4. Also scrape the most common used word in the debate, and write how many times it was used. Note that you have to use the same strategy as in C in order to do this.\n",
    "    \n",
    "    **Print your final output result.**\n",
    "    \n",
    "**Tips:**\n",
    "\n",
    "___\n",
    "\n",
    "In order to solve the questions above, it can be useful to work with Regular Expressions and explore methods on strings like `.strip(), .replace(), .find(), .count(), .lower()` etc. Both are very powerful tools to do string processing in Python. To count common words for example I used a `Counter` object and a Regular expression pattern for only words, see example:\n",
    "\n",
    "```python\n",
    "    from collections import Counter\n",
    "    import re\n",
    "\n",
    "    counts = Counter(re.findall(r\"[\\w']+\", text.lower()))\n",
    "```\n",
    "\n",
    "Read more about Regular Expressions here: https://docs.python.org/3/howto/regex.html\n",
    "    \n",
    "    \n",
    "**Example output of all of the answers to Question 1.2:**\n",
    "\n",
    "\n",
    "![pres_stats_2](https://github.com/ikhlaqsidhu/data-x/raw/master/x-archive/misc/hw2_imgs_spring2018/presidents_stats_2.jpg)\n",
    "\n",
    "\n",
    "\n",
    "----\n",
    "\n",
    ".\n",
    "\n",
    "\n"
   ]
  },
  {
   "cell_type": "code",
   "execution_count": 1,
   "metadata": {},
   "outputs": [],
   "source": [
    "# your code here\n",
    "import requests\n",
    "import bs4 as bs\n",
    "import numpy as np\n",
    "import pandas as pd\n",
    "from collections import Counter\n",
    "import re\n",
    "import warnings\n",
    "warnings.filterwarnings('ignore')\n",
    "from time import sleep"
   ]
  },
  {
   "cell_type": "code",
   "execution_count": 2,
   "metadata": {},
   "outputs": [
    {
     "name": "stdout",
     "output_type": "stream",
     "text": [
      "<Response [200]>\n"
     ]
    }
   ],
   "source": [
    "# Website downloaded successfully\n",
    "source = requests.get(\" https://www.debates.org/voter-education/debate-transcripts/\") \n",
    "print(source)"
   ]
  },
  {
   "cell_type": "code",
   "execution_count": 3,
   "metadata": {},
   "outputs": [],
   "source": [
    "soup = bs.BeautifulSoup(source.content, features='html.parser')"
   ]
  },
  {
   "cell_type": "code",
   "execution_count": 4,
   "metadata": {},
   "outputs": [],
   "source": [
    "#print(soup.body) # Inspect html content"
   ]
  },
  {
   "cell_type": "code",
   "execution_count": 5,
   "metadata": {},
   "outputs": [
    {
     "name": "stdout",
     "output_type": "stream",
     "text": [
      "https://www.debates.org/voter-education/debate-transcripts/september-25-1988-debate-transcript/\n",
      "https://www.debates.org/voter-education/debate-transcripts/october-7-1984-debate-transcript/\n",
      "https://www.debates.org/voter-education/debate-transcripts/september-23-1976-debate-transcript/\n",
      "https://www.debates.org/voter-education/debate-transcripts/september-26-1960-debate-transcript/\n",
      "\n",
      "Total number of URLs:  4\n"
     ]
    }
   ],
   "source": [
    "# 1.1\n",
    "links = soup.find_all('a')\n",
    "FPD_URLs = []\n",
    "\n",
    "for l in links:\n",
    "    if 'First' in l.text and 'Presidential Debate' in l.text:\n",
    "        if '1960' in l.text or '1976' in l.text or '1984' in l.text or '1988' in l.text:\n",
    "            FPD_URLs.append(l.get('href'))# All presential debates\n",
    "\n",
    "            \n",
    "for l in range(len(FPD_URLs)):\n",
    "    FPD_URLs[l] = \"https://www.debates.org\" + FPD_URLs[l]\n",
    "    print(FPD_URLs[l])\n",
    "\n",
    "print(\"\\nTotal number of URLs: \", len(FPD_URLs))\n"
   ]
  },
  {
   "cell_type": "code",
   "execution_count": 6,
   "metadata": {},
   "outputs": [
    {
     "data": {
      "text/plain": [
       "['September 25, 1988: The First Bush-Dukakis Presidential Debate',\n",
       " 'October 7, 1984: The First Reagan-Mondale Presidential Debate',\n",
       " 'September 23, 1976: The First Carter-Ford Presidential Debate',\n",
       " 'September 26, 1960: The First Kennedy-Nixon Presidential Debate']"
      ]
     },
     "execution_count": 6,
     "metadata": {},
     "output_type": "execute_result"
    }
   ],
   "source": [
    "#1.2.A\n",
    "column_titles = []\n",
    "for l in links: \n",
    "    if 'First' in l.text and 'Presidential Debate' in l.text:\n",
    "        if '1960' in l.text or '1976' in l.text or '1984' in l.text or '1988' in l.text:\n",
    "            column_titles.append(l.text)\n",
    "column_titles"
   ]
  },
  {
   "cell_type": "code",
   "execution_count": 7,
   "metadata": {
    "scrolled": true
   },
   "outputs": [
    {
     "name": "stdout",
     "output_type": "stream",
     "text": [
      "[87767, 86858, 80872, 61050]\n",
      "[8, 2, 7, 3]\n",
      "['the', 'the', 'the', 'the']\n",
      "[805, 868, 858, 780]\n"
     ]
    }
   ],
   "source": [
    "#1.2\n",
    "debate_char_length = []\n",
    "war_count = []\n",
    "most_common_w = []\n",
    "most_common_w_count = []\n",
    "\n",
    "for l in range(len(FPD_URLs)):\n",
    "    warcount = 0\n",
    "    source = requests.get(FPD_URLs[l])\n",
    "    soup = bs.BeautifulSoup(source.content, features = 'html.parser')\n",
    "    transcript = [''.join(s.findAll(text=True)) for s in soup.findAll('p')] #get rid of tags\n",
    "    transcript = [\" \".join(transcript)] #merge into list of length 1\n",
    "    transcript = transcript[0].lower().replace('\\n','')\n",
    "    debate_char_length.append(len(transcript))\n",
    "\n",
    "    p = re.compile(r'\\bwar\\b')\n",
    "    warcount += len(p.findall(transcript))\n",
    "    war_count.append(warcount)\n",
    "\n",
    "\n",
    "    words = re.findall('\\w+', transcript) #matches the alphanumeric character in the string\n",
    "    most_common_w.append(Counter(words).most_common(1)[0][0]) #1 returns the most common word and its count, \n",
    "#the first 0 access the word and the count, and the second 0 extracts the word\n",
    "    most_common_w_count.append(Counter(words).most_common(1)[0][1])\n",
    "    \n",
    "    \n",
    "print(debate_char_length)\n",
    "print(war_count)\n",
    "print(most_common_w)\n",
    "print(most_common_w_count)\n"
   ]
  },
  {
   "cell_type": "code",
   "execution_count": 8,
   "metadata": {},
   "outputs": [
    {
     "data": {
      "text/html": [
       "<div>\n",
       "<style scoped>\n",
       "    .dataframe tbody tr th:only-of-type {\n",
       "        vertical-align: middle;\n",
       "    }\n",
       "\n",
       "    .dataframe tbody tr th {\n",
       "        vertical-align: top;\n",
       "    }\n",
       "\n",
       "    .dataframe thead th {\n",
       "        text-align: right;\n",
       "    }\n",
       "</style>\n",
       "<table border=\"1\" class=\"dataframe\">\n",
       "  <thead>\n",
       "    <tr style=\"text-align: right;\">\n",
       "      <th></th>\n",
       "      <th>September 25, 1988: The First Bush-Dukakis Presidential Debate</th>\n",
       "      <th>October 7, 1984: The First Reagan-Mondale Presidential Debate</th>\n",
       "      <th>September 23, 1976: The First Carter-Ford Presidential Debate</th>\n",
       "      <th>September 26, 1960: The First Kennedy-Nixon Presidential Debate</th>\n",
       "    </tr>\n",
       "  </thead>\n",
       "  <tbody>\n",
       "    <tr>\n",
       "      <th>Debate char length</th>\n",
       "      <td>87767</td>\n",
       "      <td>86858</td>\n",
       "      <td>80872</td>\n",
       "      <td>61050</td>\n",
       "    </tr>\n",
       "    <tr>\n",
       "      <th>war_count</th>\n",
       "      <td>8</td>\n",
       "      <td>2</td>\n",
       "      <td>7</td>\n",
       "      <td>3</td>\n",
       "    </tr>\n",
       "    <tr>\n",
       "      <th>most_common_w</th>\n",
       "      <td>the</td>\n",
       "      <td>the</td>\n",
       "      <td>the</td>\n",
       "      <td>the</td>\n",
       "    </tr>\n",
       "    <tr>\n",
       "      <th>most_common_w_count</th>\n",
       "      <td>805</td>\n",
       "      <td>868</td>\n",
       "      <td>858</td>\n",
       "      <td>780</td>\n",
       "    </tr>\n",
       "  </tbody>\n",
       "</table>\n",
       "</div>"
      ],
      "text/plain": [
       "                    September 25, 1988: The First Bush-Dukakis Presidential Debate  \\\n",
       "Debate char length                                               87767               \n",
       "war_count                                                            8               \n",
       "most_common_w                                                      the               \n",
       "most_common_w_count                                                805               \n",
       "\n",
       "                    October 7, 1984: The First Reagan-Mondale Presidential Debate  \\\n",
       "Debate char length                                               86858              \n",
       "war_count                                                            2              \n",
       "most_common_w                                                      the              \n",
       "most_common_w_count                                                868              \n",
       "\n",
       "                    September 23, 1976: The First Carter-Ford Presidential Debate  \\\n",
       "Debate char length                                               80872              \n",
       "war_count                                                            7              \n",
       "most_common_w                                                      the              \n",
       "most_common_w_count                                                858              \n",
       "\n",
       "                    September 26, 1960: The First Kennedy-Nixon Presidential Debate  \n",
       "Debate char length                                               61050               \n",
       "war_count                                                            3               \n",
       "most_common_w                                                      the               \n",
       "most_common_w_count                                                780               "
      ]
     },
     "execution_count": 8,
     "metadata": {},
     "output_type": "execute_result"
    }
   ],
   "source": [
    "df = pd.DataFrame([debate_char_length, war_count, most_common_w, most_common_w_count])\n",
    "df.columns = column_titles\n",
    "df.set_index(pd.Index(['Debate char length', 'war_count', 'most_common_w', 'most_common_w_count']), inplace = True)\n",
    "df"
   ]
  },
  {
   "cell_type": "markdown",
   "metadata": {},
   "source": [
    "    \n",
    "## 2. Download and read in specific line from many data sets\n",
    "\n",
    "Scrape the first 27 data sets from this URL http://people.sc.fsu.edu/~jburkardt/datasets/regression/ (i.e.`x01.txt` - `x27.txt`). Then, save the 5th line in each data set, this should be the name of the data set author (get rid of the `#` symbol, the white spaces and the comma at the end). \n",
    "\n",
    "Count how many times (with a Python function) each author is the reference for one of the 27 data sets. Showcase your results, sorted, with the most common author name first and how many times he appeared in data sets. Use a Pandas DataFrame to show your results, see example. **Print your final output result.**\n",
    "\n",
    "**Example output of the answer for Question 2:**\n",
    "\n",
    "![author_stats](https://github.com/ikhlaqsidhu/data-x/raw/master/x-archive/misc/hw2_imgs_spring2018/data_authors.png)\n"
   ]
  },
  {
   "cell_type": "code",
   "execution_count": 9,
   "metadata": {},
   "outputs": [
    {
     "name": "stdout",
     "output_type": "stream",
     "text": [
      "<Response [200]>\n"
     ]
    }
   ],
   "source": [
    "source = requests.get(\" http://people.sc.fsu.edu/~jburkardt/datasets/regression/\") \n",
    "print(source)"
   ]
  },
  {
   "cell_type": "code",
   "execution_count": 10,
   "metadata": {},
   "outputs": [],
   "source": [
    "soup = bs.BeautifulSoup(source.content, features='html.parser')\n",
    "#print(soup.body)"
   ]
  },
  {
   "cell_type": "code",
   "execution_count": 11,
   "metadata": {},
   "outputs": [
    {
     "name": "stdout",
     "output_type": "stream",
     "text": [
      "Total number of txt files:  27\n",
      "\n",
      "First 3 of txt urls:  ['http://people.sc.fsu.edu/~jburkardt/datasets/regression/x01.txt', 'http://people.sc.fsu.edu/~jburkardt/datasets/regression/x02.txt']\n"
     ]
    }
   ],
   "source": [
    "links = soup.find_all('a')\n",
    "txt_urls = []\n",
    "count = 0\n",
    "\n",
    "for l in links:\n",
    "    if 'txt' in l.text and count < 27:\n",
    "        txt_urls.append('http://people.sc.fsu.edu/~jburkardt/datasets/regression/' + l.get('href'))\n",
    "        count +=1\n",
    "\n",
    "#sanity check\n",
    "print('Total number of txt files: ', len(txt_urls))\n",
    "print('\\nFirst 3 of txt urls: ', txt_urls[0:2])"
   ]
  },
  {
   "cell_type": "code",
   "execution_count": 12,
   "metadata": {},
   "outputs": [
    {
     "name": "stdout",
     "output_type": "stream",
     "text": [
      "Number of authors:  27\n"
     ]
    }
   ],
   "source": [
    "authors = []\n",
    "\n",
    "for l in range(len(txt_urls)):\n",
    "    sleep(1)\n",
    "    source = requests.get(txt_urls[l])\n",
    "    soup = bs.BeautifulSoup(source.content, features = 'html.parser')\n",
    "    author = soup.get_text().split(\"\\n\")[4] #author is in the 5th line\n",
    "    author = re.sub('#', '', author)\n",
    "    author = re.sub(',','', author)\n",
    "    author = ' '.join(author.split())#remove extra whitespaces\n",
    "    authors.append(author)\n",
    "\n",
    "#Sanity check\n",
    "print('Number of authors: ', len(authors)) #count multiple authors as one for each dataset, therefore should return 27"
   ]
  },
  {
   "cell_type": "code",
   "execution_count": 13,
   "metadata": {},
   "outputs": [
    {
     "data": {
      "text/html": [
       "<div>\n",
       "<style scoped>\n",
       "    .dataframe tbody tr th:only-of-type {\n",
       "        vertical-align: middle;\n",
       "    }\n",
       "\n",
       "    .dataframe tbody tr th {\n",
       "        vertical-align: top;\n",
       "    }\n",
       "\n",
       "    .dataframe thead th {\n",
       "        text-align: right;\n",
       "    }\n",
       "</style>\n",
       "<table border=\"1\" class=\"dataframe\">\n",
       "  <thead>\n",
       "    <tr style=\"text-align: right;\">\n",
       "      <th></th>\n",
       "      <th>Counts</th>\n",
       "    </tr>\n",
       "    <tr>\n",
       "      <th>Authors</th>\n",
       "      <th></th>\n",
       "    </tr>\n",
       "  </thead>\n",
       "  <tbody>\n",
       "    <tr>\n",
       "      <th>Helmut Spaeth</th>\n",
       "      <td>16</td>\n",
       "    </tr>\n",
       "    <tr>\n",
       "      <th>S Chatterjee B Price</th>\n",
       "      <td>3</td>\n",
       "    </tr>\n",
       "    <tr>\n",
       "      <th>R J Freund and P D Minton</th>\n",
       "      <td>2</td>\n",
       "    </tr>\n",
       "    <tr>\n",
       "      <th>D G Kleinbaum and L L Kupper</th>\n",
       "      <td>2</td>\n",
       "    </tr>\n",
       "    <tr>\n",
       "      <th>S C Narula J F Wellington</th>\n",
       "      <td>2</td>\n",
       "    </tr>\n",
       "    <tr>\n",
       "      <th>K A Brownlee</th>\n",
       "      <td>1</td>\n",
       "    </tr>\n",
       "    <tr>\n",
       "      <th>S Chatterjee and B Price</th>\n",
       "      <td>1</td>\n",
       "    </tr>\n",
       "  </tbody>\n",
       "</table>\n",
       "</div>"
      ],
      "text/plain": [
       "                              Counts\n",
       "Authors                             \n",
       "Helmut Spaeth                     16\n",
       "S Chatterjee B Price               3\n",
       "R J Freund and P D Minton          2\n",
       "D G Kleinbaum and L L Kupper       2\n",
       "S C Narula J F Wellington          2\n",
       "K A Brownlee                       1\n",
       "S Chatterjee and B Price           1"
      ]
     },
     "execution_count": 13,
     "metadata": {},
     "output_type": "execute_result"
    }
   ],
   "source": [
    "df = pd.DataFrame(Counter(authors).most_common(len(authors)))\n",
    "df.columns = ['Authors', 'Counts']\n",
    "df.set_index('Authors', inplace = True)\n",
    "df"
   ]
  },
  {
   "cell_type": "code",
   "execution_count": null,
   "metadata": {},
   "outputs": [],
   "source": []
  }
 ],
 "metadata": {
  "kernel_info": {
   "name": "data-x"
  },
  "kernelspec": {
   "display_name": "Python 3",
   "language": "python",
   "name": "python3"
  },
  "language_info": {
   "codemirror_mode": {
    "name": "ipython",
    "version": 3
   },
   "file_extension": ".py",
   "mimetype": "text/x-python",
   "name": "python",
   "nbconvert_exporter": "python",
   "pygments_lexer": "ipython3",
   "version": "3.6.8"
  },
  "nteract": {
   "version": "0.7.1"
  }
 },
 "nbformat": 4,
 "nbformat_minor": 2
}
